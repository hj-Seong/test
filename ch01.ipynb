{
  "nbformat": 4,
  "nbformat_minor": 0,
  "metadata": {
    "colab": {
      "name": "ch01.ipynb",
      "provenance": [],
      "collapsed_sections": [],
      "authorship_tag": "ABX9TyNZRkLTIcIcYTmDXIzFipld",
      "include_colab_link": true
    },
    "kernelspec": {
      "name": "python3",
      "display_name": "Python 3"
    },
    "language_info": {
      "name": "python"
    }
  },
  "cells": [
    {
      "cell_type": "markdown",
      "metadata": {
        "id": "view-in-github",
        "colab_type": "text"
      },
      "source": [
        "<a href=\"https://colab.research.google.com/github/hj-Seong/test/blob/master/ch01.ipynb\" target=\"_parent\"><img src=\"https://colab.research.google.com/assets/colab-badge.svg\" alt=\"Open In Colab\"/></a>"
      ]
    },
    {
      "cell_type": "code",
      "metadata": {
        "colab": {
          "base_uri": "https://localhost:8080/"
        },
        "id": "vhQUB7CKUVZh",
        "outputId": "400287a0-e91f-4060-d6b3-7e1000077208"
      },
      "source": [
        "# pip3 install numpy\n",
        "# python –m pip3 install numpy\n",
        "\n",
        "# numpy.py파일이 있는 것을 import하겠다.\n",
        "import numpy as np\n",
        "\n",
        "temp1 = [1,2,3,4] # 파이썬 list 8btye 메모리 관리가 안된다\n",
        "arr1 = np.array(temp1, dtype=np.uint32) #뒤에 크기를 잡아줘야한다. int(16), int32\n",
        "#dtype 블로그에 정리\n",
        "\n",
        "print(arr1)\n",
        "print(type(arr1))\n",
        "print(arr1.shape) # 차원을 보는 건 콤마\n",
        "\n"
      ],
      "execution_count": 11,
      "outputs": [
        {
          "output_type": "stream",
          "name": "stdout",
          "text": [
            "[1 2 3 4]\n",
            "<class 'numpy.ndarray'>\n",
            "(4,)\n"
          ]
        }
      ]
    },
    {
      "cell_type": "code",
      "metadata": {
        "colab": {
          "base_uri": "https://localhost:8080/"
        },
        "id": "cLV3xRkZxFh0",
        "outputId": "f6177d0a-0166-4ff5-eac4-ba346af3e682"
      },
      "source": [
        "temp2 = 2\n",
        "arr2 = np.array(temp2)\n",
        "print(arr2)\n",
        "print(type(arr2))\n",
        "print(arr2.shape)\n"
      ],
      "execution_count": 13,
      "outputs": [
        {
          "output_type": "stream",
          "name": "stdout",
          "text": [
            "2\n",
            "<class 'numpy.ndarray'>\n",
            "()\n"
          ]
        }
      ]
    },
    {
      "cell_type": "code",
      "metadata": {
        "colab": {
          "base_uri": "https://localhost:8080/"
        },
        "id": "V9cgH0nMz4Bs",
        "outputId": "15420a36-04c0-4491-a9da-1ed24a2e36f7"
      },
      "source": [
        "temp3 = [[1,2,3],[4,5,6],[7,8,9],[10, 11, 12]]\n",
        "arr3 = np.array(temp3, dtype=np.uint8)\n",
        "print(arr3)\n",
        "print(temp3)\n",
        "print(type(arr3))\n",
        "print(arr3.shape)\n",
        "print(arr3.size)"
      ],
      "execution_count": 19,
      "outputs": [
        {
          "output_type": "stream",
          "name": "stdout",
          "text": [
            "[[ 1  2  3]\n",
            " [ 4  5  6]\n",
            " [ 7  8  9]\n",
            " [10 11 12]]\n",
            "[[1, 2, 3], [4, 5, 6], [7, 8, 9], [10, 11, 12]]\n",
            "<class 'numpy.ndarray'>\n",
            "(4, 3)\n",
            "12\n"
          ]
        }
      ]
    },
    {
      "cell_type": "code",
      "metadata": {
        "colab": {
          "base_uri": "https://localhost:8080/"
        },
        "id": "oS7HZtUT0--K",
        "outputId": "f6e85122-a437-4444-8a49-3be6b49786b8"
      },
      "source": [
        "temp4 = [\n",
        "    [[1, 2, 3], [4, 5, 6], [7, 8, 9], [10, 11, 12]],\n",
        "    [[1, 2, 3], [4, 5, 6], [7, 8, 9], [10, 11, 12]],\n",
        "    [[1, 2, 3], [4, 5, 6], [7, 8, 9], [10, 11, 12]]\n",
        "]\n",
        "arr4 = np.array(temp4, dtype=np.uint0)\n",
        "print(arr4)\n",
        "print(temp4)\n",
        "print(type(arr4))\n",
        "print(arr4.shape)\n",
        "print(arr4.size)"
      ],
      "execution_count": 21,
      "outputs": [
        {
          "output_type": "stream",
          "name": "stdout",
          "text": [
            "[[[ 1  2  3]\n",
            "  [ 4  5  6]\n",
            "  [ 7  8  9]\n",
            "  [10 11 12]]\n",
            "\n",
            " [[ 1  2  3]\n",
            "  [ 4  5  6]\n",
            "  [ 7  8  9]\n",
            "  [10 11 12]]\n",
            "\n",
            " [[ 1  2  3]\n",
            "  [ 4  5  6]\n",
            "  [ 7  8  9]\n",
            "  [10 11 12]]]\n",
            "[[[1, 2, 3], [4, 5, 6], [7, 8, 9], [10, 11, 12]], [[1, 2, 3], [4, 5, 6], [7, 8, 9], [10, 11, 12]], [[1, 2, 3], [4, 5, 6], [7, 8, 9], [10, 11, 12]]]\n",
            "<class 'numpy.ndarray'>\n",
            "(3, 4, 3)\n",
            "36\n"
          ]
        }
      ]
    },
    {
      "cell_type": "code",
      "metadata": {
        "colab": {
          "base_uri": "https://localhost:8080/"
        },
        "id": "yOGwzeJ-7Gqs",
        "outputId": "9bdbc773-d55d-45af-d00d-14d17160337b"
      },
      "source": [
        "temp5 = [\n",
        "  [1,2,3,4],\n",
        "  [5,6,7,8]\n",
        "]\n",
        "\n",
        "matrix1 = np.array(temp5)\n",
        "print(matrix1.shape)\n",
        "\n",
        "re1 = matrix1.reshape((8,))\n",
        "print(re1)\n",
        "print(\"=\"*50)\n",
        "\n",
        "re2 = matrix1.reshape((4,2))\n",
        "print(re2)\n",
        "print(\"=\"*50)\n",
        "\n",
        "re3 = matrix1.reshape((2,2,2)) # 2*2*2 > 스택으로 쌓인다.\n",
        "print(re3)\n",
        "print(\"=\"*50)\n",
        "\n",
        "re4 = matrix1.reshape((1,1,4,2))\n",
        "print(re4)\n",
        "print(re4.shape)\n",
        "print(\"=\"*50)\n"
      ],
      "execution_count": 29,
      "outputs": [
        {
          "output_type": "stream",
          "name": "stdout",
          "text": [
            "(2, 4)\n",
            "[1 2 3 4 5 6 7 8]\n",
            "==================================================\n",
            "[[1 2]\n",
            " [3 4]\n",
            " [5 6]\n",
            " [7 8]]\n",
            "==================================================\n",
            "[[[1 2]\n",
            "  [3 4]]\n",
            "\n",
            " [[5 6]\n",
            "  [7 8]]]\n",
            "==================================================\n",
            "[[[[1 2]\n",
            "   [3 4]\n",
            "   [5 6]\n",
            "   [7 8]]]]\n",
            "(1, 1, 4, 2)\n",
            "==================================================\n"
          ]
        }
      ]
    },
    {
      "cell_type": "code",
      "metadata": {
        "colab": {
          "base_uri": "https://localhost:8080/"
        },
        "id": "iCViyKum94Jl",
        "outputId": "fac4f5ee-2126-4826-b69f-f2d92c1b4dcf"
      },
      "source": [
        "temp6 = [1,2,3,4,5,6]\n",
        "vector1 = np.array(temp6)\n",
        "print(vector1)\n",
        "\n",
        "re1 = vector1.reshape((2,-1)) #-1은 앞의 값을 보고 동적계산\n",
        "print(re1)\n",
        "\n",
        "re2 = re1.reshape((-1)) #flattern, flatMap(전개하다) 플랫맵\n",
        "print(re2)\n",
        "\n",
        "re3 = re1.flatten()\n",
        "print(re3)"
      ],
      "execution_count": 36,
      "outputs": [
        {
          "output_type": "stream",
          "name": "stdout",
          "text": [
            "[1 2 3 4 5 6]\n",
            "[[1 2 3]\n",
            " [4 5 6]]\n",
            "[1 2 3 4 5 6]\n",
            "[1 2 3 4 5 6]\n"
          ]
        }
      ]
    }
  ]
}